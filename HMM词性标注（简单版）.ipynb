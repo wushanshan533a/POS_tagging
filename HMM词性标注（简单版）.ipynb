{
 "cells": [
  {
   "cell_type": "code",
   "execution_count": 25,
   "metadata": {},
   "outputs": [],
   "source": [
    "import numpy as np\n",
    "import pandas as pd"
   ]
  },
  {
   "cell_type": "code",
   "execution_count": 4,
   "metadata": {},
   "outputs": [],
   "source": [
    "\"\"\"配置\"\"\"\n",
    "SMOOTHNESS = 1e-8\n",
    "START = 'start'  # 句始tag\n",
    "END = 'end'  # 句末tag\n",
    "NOUN = 'subj'  # 名词\n",
    "ADV = 'adv'  # 副词\n",
    "ADJ = 'adj'  # 形容词\n",
    "\n",
    "\"\"\"数据预处理\"\"\"\n",
    "corpus = np.array([\n",
    "    ('我', NOUN), ('很', ADV), ('菜', ADJ), ('。', END),\n",
    "    ('我', NOUN), ('好', ADV), ('菜', ADJ), ('。', END),\n",
    "    ('我', NOUN), ('很', ADV), ('好', ADJ), ('。', END),\n",
    "    ('他', NOUN), ('很', ADV), ('菜', ADJ), ('。', END),\n",
    "    ('他', NOUN), ('好', ADV), ('菜', ADJ), ('。', END),\n",
    "    ('他', NOUN), ('很', ADV), ('好', ADJ), ('。', END),\n",
    "    ('菜', NOUN), ('很', ADV), ('好', ADJ), ('。', END),\n",
    "    ('我', NOUN), ('菜', ADJ), ('。', END),\n",
    "    ('我', NOUN), ('好', ADJ), ('。', END),\n",
    "    ('他', NOUN), ('菜', ADJ), ('。', END),\n",
    "    ('他', NOUN), ('好', ADJ), ('。', END),\n",
    "    ('菜', NOUN), ('好', ADJ), ('。', END),\n",
    "    ('我', NOUN), ('好', ADV), ('好', ADJ), ('。', END),\n",
    "    ('他', NOUN), ('好', ADV), ('好', ADJ), ('。', END),\n",
    "], dtype=str)"
   ]
  },
  {
   "cell_type": "code",
   "execution_count": 5,
   "metadata": {},
   "outputs": [],
   "source": [
    "words = sorted(set(corpus[:, 0]))\n",
    "tags = sorted(set(corpus[:, 1]))\n",
    "\n",
    "W = len(words)  # 词汇量\n",
    "T = len(tags)  # 词性种类数\n",
    "\n",
    "word2id = {words[i]: i for i in range(W)}\n",
    "tag2id = {tags[i]: i for i in range(T)}\n",
    "id2tag = {i: tags[i] for i in range(T)}"
   ]
  },
  {
   "cell_type": "code",
   "execution_count": 6,
   "metadata": {},
   "outputs": [],
   "source": [
    "\"\"\"HMM训练\"\"\"\n",
    "emit_p = np.zeros((T, W)) + SMOOTHNESS  # emission_probability\n",
    "start_p = np.zeros(T) + SMOOTHNESS  # start_probability\n",
    "trans_p = np.zeros((T, T)) + SMOOTHNESS  # transition_probability"
   ]
  },
  {
   "cell_type": "code",
   "execution_count": 7,
   "metadata": {},
   "outputs": [],
   "source": [
    "prev_tag = START  # 前一个tag\n",
    "for word, tag in corpus:\n",
    "    wid, tid = word2id[word], tag2id[tag]\n",
    "    emit_p[tid][wid] += 1\n",
    "    if prev_tag == START:\n",
    "        start_p[tid] += 1\n",
    "    else:\n",
    "        trans_p[tag2id[prev_tag]][tid] += 1\n",
    "    prev_tag = START if tag == END else tag  # 句尾判断"
   ]
  },
  {
   "cell_type": "code",
   "execution_count": 8,
   "metadata": {},
   "outputs": [],
   "source": [
    "# 频数 --> 概率对数\n",
    "start_p = np.log(start_p / sum(start_p))\n",
    "for i in range(T):\n",
    "    emit_p[i] = np.log(emit_p[i] / sum(emit_p[i]))\n",
    "    trans_p[i] = np.log(trans_p[i] / sum(trans_p[i]))"
   ]
  },
  {
   "cell_type": "code",
   "execution_count": 9,
   "metadata": {},
   "outputs": [],
   "source": [
    "def viterbi(sentence):\n",
    "    \"\"\"维特比算法\"\"\"\n",
    "    obs = [word2id[w] for w in sentence.strip()]  # 观测序列\n",
    "    le = len(obs)  # 序列长度\n",
    "\n",
    "    # 动态规划矩阵\n",
    "    dp = np.zeros((le, T))  # 记录节点最大概率对数\n",
    "    path = np.zeros((le, T), dtype=int)  # 记录上个转移节点\n",
    "\n",
    "    for j in range(T):\n",
    "        dp[0][j] = start_p[j] + emit_p[j][obs[0]]\n",
    "\n",
    "    for i in range(1, le):\n",
    "        for j in range(T):\n",
    "            dp[i][j], path[i][j] = max(\n",
    "                (dp[i - 1][k] + trans_p[k][j] + emit_p[j][obs[i]], k)\n",
    "                for k in range(T))\n",
    "\n",
    "    # 隐序列\n",
    "    states = [np.argmax(dp[le - 1])]\n",
    "    # 从后到前的循环来依次求出每个单词的词性\n",
    "    for i in range(le - 2, -1, -1):\n",
    "        states.insert(0, path[i + 1][states[0]])\n",
    "\n",
    "    # 打印\n",
    "    for word, tid in zip(sentence, states):\n",
    "        print(word, id2tag[tid])"
   ]
  },
  {
   "cell_type": "code",
   "execution_count": 10,
   "metadata": {},
   "outputs": [
    {
     "name": "stdout",
     "output_type": "stream",
     "text": [
      "菜 subj\n",
      "好 adv\n",
      "好 adj\n",
      "。 end\n"
     ]
    }
   ],
   "source": [
    "\"\"\"测试\"\"\"\n",
    "x = '菜好好。'\n",
    "viterbi(x)"
   ]
  },
  {
   "cell_type": "code",
   "execution_count": null,
   "metadata": {},
   "outputs": [],
   "source": []
  }
 ],
 "metadata": {
  "kernelspec": {
   "display_name": "Python 3 (BF_py36)",
   "language": "python",
   "name": "bf_py36"
  },
  "language_info": {
   "codemirror_mode": {
    "name": "ipython",
    "version": 3
   },
   "file_extension": ".py",
   "mimetype": "text/x-python",
   "name": "python",
   "nbconvert_exporter": "python",
   "pygments_lexer": "ipython3",
   "version": "3.6.5"
  }
 },
 "nbformat": 4,
 "nbformat_minor": 2
}
